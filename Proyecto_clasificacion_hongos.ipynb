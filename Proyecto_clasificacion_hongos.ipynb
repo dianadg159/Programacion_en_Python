{
  "nbformat": 4,
  "nbformat_minor": 0,
  "metadata": {
    "colab": {
      "provenance": [],
      "include_colab_link": true
    },
    "kernelspec": {
      "name": "python3",
      "display_name": "Python 3"
    },
    "language_info": {
      "name": "python"
    }
  },
  "cells": [
    {
      "cell_type": "markdown",
      "metadata": {
        "id": "view-in-github",
        "colab_type": "text"
      },
      "source": [
        "<a href=\"https://colab.research.google.com/github/dianadg159/Programacion_en_Python/blob/master/Proyecto_clasificacion_hongos.ipynb\" target=\"_parent\"><img src=\"https://colab.research.google.com/assets/colab-badge.svg\" alt=\"Open In Colab\"/></a>"
      ]
    },
    {
      "cell_type": "markdown",
      "source": [
        "Proyecto: Clasificación de Hongos\n",
        "\n",
        "Integrantes: Diana Delgado Gutiérrez y Natalia Gutiérrez Ponce"
      ],
      "metadata": {
        "id": "rrDiCoA7FtpE"
      }
    },
    {
      "cell_type": "code",
      "source": [
        "# Origen y descripción de conjunto de datos:\n",
        "# https://www.kaggle.com/datasets/uciml/mushroom-classification"
      ],
      "metadata": {
        "id": "i8LuFyOFLKBM"
      },
      "execution_count": null,
      "outputs": []
    },
    {
      "cell_type": "code",
      "source": [
        "# Importar librerías\n",
        "import pandas as pd\n",
        "# Importar SVM, en scikit-learn se llama Support Vector Classifier (SVC)\n",
        "from sklearn.svm import SVC\n",
        "# Importar objeto para k-fold cross-validation con búsqueda aleatoria de hyperparámetros\n",
        "from sklearn.model_selection import RandomizedSearchCV\n",
        "# Importar objeto para separación de datos en conjuntos de entrenamiento y evaluación\n",
        "from sklearn.model_selection import train_test_split\n",
        "# Obtener valore de una distribución uniforme\n",
        "from scipy.stats import uniform, expon\n",
        "# Importar objeto para escalamiento de datos\n",
        "from sklearn.preprocessing import StandardScaler, LabelBinarizer\n",
        "# Importar metricas de evaluación\n",
        "from sklearn.metrics import f1_score, precision_score, recall_score, roc_auc_score, roc_curve\n",
        "# Importar objeto para imprimir matriz de confusión\n",
        "from sklearn.metrics import ConfusionMatrixDisplay, confusion_matrix\n",
        "# Importar objeto para imprimir reporte de clasificación \n",
        "from sklearn.metrics import classification_report\n",
        "# Plots\n",
        "import matplotlib.pyplot as plt\n",
        "# Import object to plot Precision-Recall curve\n",
        "from sklearn.metrics import PrecisionRecallDisplay\n",
        "# Importar libreria para el Decision Tree Model\n",
        "from sklearn import tree\n",
        "# Importar objeto para randomize search\n",
        "from sklearn.model_selection import RandomizedSearchCV\n",
        "# Imporatar objeto para label encoder\n",
        "from sklearn.preprocessing import OrdinalEncoder, LabelEncoder\n",
        "# Importar numpy\n",
        "import numpy as np"
      ],
      "metadata": {
        "id": "Ill6Y1cFF8u6"
      },
      "execution_count": null,
      "outputs": []
    },
    {
      "cell_type": "code",
      "source": [
        "# Leer datos en dataframe\n",
        "data = pd.read_csv(\"mushrooms.csv\")\n",
        "data.head(6)"
      ],
      "metadata": {
        "colab": {
          "base_uri": "https://localhost:8080/",
          "height": 383
        },
        "id": "yAY81k40M3Zf",
        "outputId": "4f652341-e474-49f4-d8a4-23b51d5a43ba"
      },
      "execution_count": null,
      "outputs": [
        {
          "output_type": "execute_result",
          "data": {
            "text/plain": [
              "  class cap-shape cap-surface cap-color bruises odor gill-attachment  \\\n",
              "0     p         x           s         n       t    p               f   \n",
              "1     e         x           s         y       t    a               f   \n",
              "2     e         b           s         w       t    l               f   \n",
              "3     p         x           y         w       t    p               f   \n",
              "4     e         x           s         g       f    n               f   \n",
              "5     e         x           y         y       t    a               f   \n",
              "\n",
              "  gill-spacing gill-size gill-color  ... stalk-surface-below-ring  \\\n",
              "0            c         n          k  ...                        s   \n",
              "1            c         b          k  ...                        s   \n",
              "2            c         b          n  ...                        s   \n",
              "3            c         n          n  ...                        s   \n",
              "4            w         b          k  ...                        s   \n",
              "5            c         b          n  ...                        s   \n",
              "\n",
              "  stalk-color-above-ring stalk-color-below-ring veil-type veil-color  \\\n",
              "0                      w                      w         p          w   \n",
              "1                      w                      w         p          w   \n",
              "2                      w                      w         p          w   \n",
              "3                      w                      w         p          w   \n",
              "4                      w                      w         p          w   \n",
              "5                      w                      w         p          w   \n",
              "\n",
              "  ring-number ring-type spore-print-color population habitat  \n",
              "0           o         p                 k          s       u  \n",
              "1           o         p                 n          n       g  \n",
              "2           o         p                 n          n       m  \n",
              "3           o         p                 k          s       u  \n",
              "4           o         e                 n          a       g  \n",
              "5           o         p                 k          n       g  \n",
              "\n",
              "[6 rows x 23 columns]"
            ],
            "text/html": [
              "\n",
              "  <div id=\"df-91d22bfb-06d6-4e72-8525-18a513c5a478\">\n",
              "    <div class=\"colab-df-container\">\n",
              "      <div>\n",
              "<style scoped>\n",
              "    .dataframe tbody tr th:only-of-type {\n",
              "        vertical-align: middle;\n",
              "    }\n",
              "\n",
              "    .dataframe tbody tr th {\n",
              "        vertical-align: top;\n",
              "    }\n",
              "\n",
              "    .dataframe thead th {\n",
              "        text-align: right;\n",
              "    }\n",
              "</style>\n",
              "<table border=\"1\" class=\"dataframe\">\n",
              "  <thead>\n",
              "    <tr style=\"text-align: right;\">\n",
              "      <th></th>\n",
              "      <th>class</th>\n",
              "      <th>cap-shape</th>\n",
              "      <th>cap-surface</th>\n",
              "      <th>cap-color</th>\n",
              "      <th>bruises</th>\n",
              "      <th>odor</th>\n",
              "      <th>gill-attachment</th>\n",
              "      <th>gill-spacing</th>\n",
              "      <th>gill-size</th>\n",
              "      <th>gill-color</th>\n",
              "      <th>...</th>\n",
              "      <th>stalk-surface-below-ring</th>\n",
              "      <th>stalk-color-above-ring</th>\n",
              "      <th>stalk-color-below-ring</th>\n",
              "      <th>veil-type</th>\n",
              "      <th>veil-color</th>\n",
              "      <th>ring-number</th>\n",
              "      <th>ring-type</th>\n",
              "      <th>spore-print-color</th>\n",
              "      <th>population</th>\n",
              "      <th>habitat</th>\n",
              "    </tr>\n",
              "  </thead>\n",
              "  <tbody>\n",
              "    <tr>\n",
              "      <th>0</th>\n",
              "      <td>p</td>\n",
              "      <td>x</td>\n",
              "      <td>s</td>\n",
              "      <td>n</td>\n",
              "      <td>t</td>\n",
              "      <td>p</td>\n",
              "      <td>f</td>\n",
              "      <td>c</td>\n",
              "      <td>n</td>\n",
              "      <td>k</td>\n",
              "      <td>...</td>\n",
              "      <td>s</td>\n",
              "      <td>w</td>\n",
              "      <td>w</td>\n",
              "      <td>p</td>\n",
              "      <td>w</td>\n",
              "      <td>o</td>\n",
              "      <td>p</td>\n",
              "      <td>k</td>\n",
              "      <td>s</td>\n",
              "      <td>u</td>\n",
              "    </tr>\n",
              "    <tr>\n",
              "      <th>1</th>\n",
              "      <td>e</td>\n",
              "      <td>x</td>\n",
              "      <td>s</td>\n",
              "      <td>y</td>\n",
              "      <td>t</td>\n",
              "      <td>a</td>\n",
              "      <td>f</td>\n",
              "      <td>c</td>\n",
              "      <td>b</td>\n",
              "      <td>k</td>\n",
              "      <td>...</td>\n",
              "      <td>s</td>\n",
              "      <td>w</td>\n",
              "      <td>w</td>\n",
              "      <td>p</td>\n",
              "      <td>w</td>\n",
              "      <td>o</td>\n",
              "      <td>p</td>\n",
              "      <td>n</td>\n",
              "      <td>n</td>\n",
              "      <td>g</td>\n",
              "    </tr>\n",
              "    <tr>\n",
              "      <th>2</th>\n",
              "      <td>e</td>\n",
              "      <td>b</td>\n",
              "      <td>s</td>\n",
              "      <td>w</td>\n",
              "      <td>t</td>\n",
              "      <td>l</td>\n",
              "      <td>f</td>\n",
              "      <td>c</td>\n",
              "      <td>b</td>\n",
              "      <td>n</td>\n",
              "      <td>...</td>\n",
              "      <td>s</td>\n",
              "      <td>w</td>\n",
              "      <td>w</td>\n",
              "      <td>p</td>\n",
              "      <td>w</td>\n",
              "      <td>o</td>\n",
              "      <td>p</td>\n",
              "      <td>n</td>\n",
              "      <td>n</td>\n",
              "      <td>m</td>\n",
              "    </tr>\n",
              "    <tr>\n",
              "      <th>3</th>\n",
              "      <td>p</td>\n",
              "      <td>x</td>\n",
              "      <td>y</td>\n",
              "      <td>w</td>\n",
              "      <td>t</td>\n",
              "      <td>p</td>\n",
              "      <td>f</td>\n",
              "      <td>c</td>\n",
              "      <td>n</td>\n",
              "      <td>n</td>\n",
              "      <td>...</td>\n",
              "      <td>s</td>\n",
              "      <td>w</td>\n",
              "      <td>w</td>\n",
              "      <td>p</td>\n",
              "      <td>w</td>\n",
              "      <td>o</td>\n",
              "      <td>p</td>\n",
              "      <td>k</td>\n",
              "      <td>s</td>\n",
              "      <td>u</td>\n",
              "    </tr>\n",
              "    <tr>\n",
              "      <th>4</th>\n",
              "      <td>e</td>\n",
              "      <td>x</td>\n",
              "      <td>s</td>\n",
              "      <td>g</td>\n",
              "      <td>f</td>\n",
              "      <td>n</td>\n",
              "      <td>f</td>\n",
              "      <td>w</td>\n",
              "      <td>b</td>\n",
              "      <td>k</td>\n",
              "      <td>...</td>\n",
              "      <td>s</td>\n",
              "      <td>w</td>\n",
              "      <td>w</td>\n",
              "      <td>p</td>\n",
              "      <td>w</td>\n",
              "      <td>o</td>\n",
              "      <td>e</td>\n",
              "      <td>n</td>\n",
              "      <td>a</td>\n",
              "      <td>g</td>\n",
              "    </tr>\n",
              "    <tr>\n",
              "      <th>5</th>\n",
              "      <td>e</td>\n",
              "      <td>x</td>\n",
              "      <td>y</td>\n",
              "      <td>y</td>\n",
              "      <td>t</td>\n",
              "      <td>a</td>\n",
              "      <td>f</td>\n",
              "      <td>c</td>\n",
              "      <td>b</td>\n",
              "      <td>n</td>\n",
              "      <td>...</td>\n",
              "      <td>s</td>\n",
              "      <td>w</td>\n",
              "      <td>w</td>\n",
              "      <td>p</td>\n",
              "      <td>w</td>\n",
              "      <td>o</td>\n",
              "      <td>p</td>\n",
              "      <td>k</td>\n",
              "      <td>n</td>\n",
              "      <td>g</td>\n",
              "    </tr>\n",
              "  </tbody>\n",
              "</table>\n",
              "<p>6 rows × 23 columns</p>\n",
              "</div>\n",
              "      <button class=\"colab-df-convert\" onclick=\"convertToInteractive('df-91d22bfb-06d6-4e72-8525-18a513c5a478')\"\n",
              "              title=\"Convert this dataframe to an interactive table.\"\n",
              "              style=\"display:none;\">\n",
              "        \n",
              "  <svg xmlns=\"http://www.w3.org/2000/svg\" height=\"24px\"viewBox=\"0 0 24 24\"\n",
              "       width=\"24px\">\n",
              "    <path d=\"M0 0h24v24H0V0z\" fill=\"none\"/>\n",
              "    <path d=\"M18.56 5.44l.94 2.06.94-2.06 2.06-.94-2.06-.94-.94-2.06-.94 2.06-2.06.94zm-11 1L8.5 8.5l.94-2.06 2.06-.94-2.06-.94L8.5 2.5l-.94 2.06-2.06.94zm10 10l.94 2.06.94-2.06 2.06-.94-2.06-.94-.94-2.06-.94 2.06-2.06.94z\"/><path d=\"M17.41 7.96l-1.37-1.37c-.4-.4-.92-.59-1.43-.59-.52 0-1.04.2-1.43.59L10.3 9.45l-7.72 7.72c-.78.78-.78 2.05 0 2.83L4 21.41c.39.39.9.59 1.41.59.51 0 1.02-.2 1.41-.59l7.78-7.78 2.81-2.81c.8-.78.8-2.07 0-2.86zM5.41 20L4 18.59l7.72-7.72 1.47 1.35L5.41 20z\"/>\n",
              "  </svg>\n",
              "      </button>\n",
              "      \n",
              "  <style>\n",
              "    .colab-df-container {\n",
              "      display:flex;\n",
              "      flex-wrap:wrap;\n",
              "      gap: 12px;\n",
              "    }\n",
              "\n",
              "    .colab-df-convert {\n",
              "      background-color: #E8F0FE;\n",
              "      border: none;\n",
              "      border-radius: 50%;\n",
              "      cursor: pointer;\n",
              "      display: none;\n",
              "      fill: #1967D2;\n",
              "      height: 32px;\n",
              "      padding: 0 0 0 0;\n",
              "      width: 32px;\n",
              "    }\n",
              "\n",
              "    .colab-df-convert:hover {\n",
              "      background-color: #E2EBFA;\n",
              "      box-shadow: 0px 1px 2px rgba(60, 64, 67, 0.3), 0px 1px 3px 1px rgba(60, 64, 67, 0.15);\n",
              "      fill: #174EA6;\n",
              "    }\n",
              "\n",
              "    [theme=dark] .colab-df-convert {\n",
              "      background-color: #3B4455;\n",
              "      fill: #D2E3FC;\n",
              "    }\n",
              "\n",
              "    [theme=dark] .colab-df-convert:hover {\n",
              "      background-color: #434B5C;\n",
              "      box-shadow: 0px 1px 3px 1px rgba(0, 0, 0, 0.15);\n",
              "      filter: drop-shadow(0px 1px 2px rgba(0, 0, 0, 0.3));\n",
              "      fill: #FFFFFF;\n",
              "    }\n",
              "  </style>\n",
              "\n",
              "      <script>\n",
              "        const buttonEl =\n",
              "          document.querySelector('#df-91d22bfb-06d6-4e72-8525-18a513c5a478 button.colab-df-convert');\n",
              "        buttonEl.style.display =\n",
              "          google.colab.kernel.accessAllowed ? 'block' : 'none';\n",
              "\n",
              "        async function convertToInteractive(key) {\n",
              "          const element = document.querySelector('#df-91d22bfb-06d6-4e72-8525-18a513c5a478');\n",
              "          const dataTable =\n",
              "            await google.colab.kernel.invokeFunction('convertToInteractive',\n",
              "                                                     [key], {});\n",
              "          if (!dataTable) return;\n",
              "\n",
              "          const docLinkHtml = 'Like what you see? Visit the ' +\n",
              "            '<a target=\"_blank\" href=https://colab.research.google.com/notebooks/data_table.ipynb>data table notebook</a>'\n",
              "            + ' to learn more about interactive tables.';\n",
              "          element.innerHTML = '';\n",
              "          dataTable['output_type'] = 'display_data';\n",
              "          await google.colab.output.renderOutput(dataTable, element);\n",
              "          const docLink = document.createElement('div');\n",
              "          docLink.innerHTML = docLinkHtml;\n",
              "          element.appendChild(docLink);\n",
              "        }\n",
              "      </script>\n",
              "    </div>\n",
              "  </div>\n",
              "  "
            ]
          },
          "metadata": {},
          "execution_count": 3
        }
      ]
    },
    {
      "cell_type": "code",
      "source": [
        "# Verificar categorías de clase\n",
        "data['class'].unique()"
      ],
      "metadata": {
        "colab": {
          "base_uri": "https://localhost:8080/"
        },
        "id": "2M0oo93NXV3P",
        "outputId": "b79c267f-4867-46e6-9edf-94caba164efe"
      },
      "execution_count": null,
      "outputs": [
        {
          "output_type": "execute_result",
          "data": {
            "text/plain": [
              "array(['p', 'e'], dtype=object)"
            ]
          },
          "metadata": {},
          "execution_count": 4
        }
      ]
    },
    {
      "cell_type": "code",
      "source": [
        "# Verificar dimensionalidad de datos\n",
        "data.shape"
      ],
      "metadata": {
        "colab": {
          "base_uri": "https://localhost:8080/"
        },
        "id": "le1j92hlWYgH",
        "outputId": "0cd84fe3-d672-4a6f-f3db-ec6b7d039b6d"
      },
      "execution_count": null,
      "outputs": [
        {
          "output_type": "execute_result",
          "data": {
            "text/plain": [
              "(8124, 23)"
            ]
          },
          "metadata": {},
          "execution_count": 5
        }
      ]
    },
    {
      "cell_type": "code",
      "source": [
        "# Verificar ejemplos por categoría\n",
        "print(data.groupby('class').size())"
      ],
      "metadata": {
        "colab": {
          "base_uri": "https://localhost:8080/"
        },
        "id": "3tny2fkcXjUV",
        "outputId": "d60ece13-8d29-45ae-cfce-a54dbd6090b7"
      },
      "execution_count": null,
      "outputs": [
        {
          "output_type": "stream",
          "name": "stdout",
          "text": [
            "class\n",
            "e    4208\n",
            "p    3916\n",
            "dtype: int64\n"
          ]
        }
      ]
    },
    {
      "cell_type": "code",
      "source": [
        "# Utilizamos LabelEncoder para cambiar los datos de letras a numeros\n",
        "# Mantener la misma estructura de data.frame\n",
        "labelencoder = LabelEncoder()\n",
        "for column in data.columns:\n",
        "    data[column] = labelencoder.fit_transform(data[column])\n",
        "\n",
        "# Preparar datos\n",
        "# X = sólo datos de características de ejemplos\n",
        "# y = categorías de clase para cada ejemplo\n",
        "X = data.iloc[:,1:23]  # all rows, all the features and no labels\n",
        "y = data.iloc[:, 0]  # all rows, label only\n",
        "print(\"Datos\")\n",
        "print(X.head())\n",
        "print(\"\\nCategorias de clase\")\n",
        "print(y.head())"
      ],
      "metadata": {
        "colab": {
          "base_uri": "https://localhost:8080/"
        },
        "id": "KTWizDJWhXYN",
        "outputId": "77b890da-2a98-41a1-c690-c0ecabfa6ba3"
      },
      "execution_count": null,
      "outputs": [
        {
          "output_type": "stream",
          "name": "stdout",
          "text": [
            "Datos\n",
            "   cap-shape  cap-surface  cap-color  bruises  odor  gill-attachment  \\\n",
            "0          5            2          4        1     6                1   \n",
            "1          5            2          9        1     0                1   \n",
            "2          0            2          8        1     3                1   \n",
            "3          5            3          8        1     6                1   \n",
            "4          5            2          3        0     5                1   \n",
            "\n",
            "   gill-spacing  gill-size  gill-color  stalk-shape  ...  \\\n",
            "0             0          1           4            0  ...   \n",
            "1             0          0           4            0  ...   \n",
            "2             0          0           5            0  ...   \n",
            "3             0          1           5            0  ...   \n",
            "4             1          0           4            1  ...   \n",
            "\n",
            "   stalk-surface-below-ring  stalk-color-above-ring  stalk-color-below-ring  \\\n",
            "0                         2                       7                       7   \n",
            "1                         2                       7                       7   \n",
            "2                         2                       7                       7   \n",
            "3                         2                       7                       7   \n",
            "4                         2                       7                       7   \n",
            "\n",
            "   veil-type  veil-color  ring-number  ring-type  spore-print-color  \\\n",
            "0          0           2            1          4                  2   \n",
            "1          0           2            1          4                  3   \n",
            "2          0           2            1          4                  3   \n",
            "3          0           2            1          4                  2   \n",
            "4          0           2            1          0                  3   \n",
            "\n",
            "   population  habitat  \n",
            "0           3        5  \n",
            "1           2        1  \n",
            "2           2        3  \n",
            "3           3        5  \n",
            "4           0        1  \n",
            "\n",
            "[5 rows x 22 columns]\n",
            "\n",
            "Categorias de clase\n",
            "0    1\n",
            "1    0\n",
            "2    0\n",
            "3    1\n",
            "4    0\n",
            "Name: class, dtype: int64\n"
          ]
        }
      ]
    },
    {
      "cell_type": "code",
      "source": [
        "# En este caso no se considero necesario hacer un escalamiento de datos, pues //\n",
        "# no hay una diferencia de magnitud significativa entre ellos"
      ],
      "metadata": {
        "id": "Y5eFwnG10vhf"
      },
      "execution_count": null,
      "outputs": []
    },
    {
      "cell_type": "code",
      "source": [
        "# Separación de datos en conjuntos de entrenamiento y evaluación\n",
        "X_train, X_test, y_train, y_test = train_test_split(X,y,test_size=0.2,random_state=0)"
      ],
      "metadata": {
        "id": "mgXQEVjxcWke"
      },
      "execution_count": null,
      "outputs": []
    },
    {
      "cell_type": "markdown",
      "source": [
        "**SVM MODEL**"
      ],
      "metadata": {
        "id": "0TRTdBplpPMg"
      }
    },
    {
      "cell_type": "code",
      "source": [
        "# SVM\n",
        "svm_model= SVC()\n",
        "\n",
        "# Definimos los paramtros del modelo SVM\n",
        "search_parameters = {'C': expon(scale=100), 'gamma': expon(scale=.1),\n",
        "  'kernel': ['rbf'], 'class_weight':['balanced', None]}"
      ],
      "metadata": {
        "id": "eTywtpVZdaLO"
      },
      "execution_count": null,
      "outputs": []
    },
    {
      "cell_type": "code",
      "source": [
        "# Definimos el classifier\n",
        "clf = RandomizedSearchCV(svm_model, search_parameters, random_state=0, cv=5, \n",
        "                                    scoring='f1_weighted', verbose=2, n_jobs=-1)\n",
        "classifier = clf.fit(X_train, y_train)"
      ],
      "metadata": {
        "colab": {
          "base_uri": "https://localhost:8080/"
        },
        "id": "iwxBz6yNeK-d",
        "outputId": "7d980717-03c1-45d8-9963-84db7b6aae99"
      },
      "execution_count": null,
      "outputs": [
        {
          "output_type": "stream",
          "name": "stdout",
          "text": [
            "Fitting 5 folds for each of 10 candidates, totalling 50 fits\n"
          ]
        }
      ]
    },
    {
      "cell_type": "code",
      "source": [
        "# Verificamos resultados de entrenamiento y cross-validation\n",
        "print(\"Mejor F-1 weighted score\")\n",
        "print(classifier.best_score_)\n",
        "print(\"Mejores hyperparámetros\")\n",
        "print(classifier.best_params_)"
      ],
      "metadata": {
        "id": "a8cBemk2e6Ev",
        "colab": {
          "base_uri": "https://localhost:8080/"
        },
        "outputId": "27bee315-820e-4930-8ef7-e8cf9415d80a"
      },
      "execution_count": null,
      "outputs": [
        {
          "output_type": "stream",
          "name": "stdout",
          "text": [
            "Mejor F-1 weighted score\n",
            "1.0\n",
            "Mejores hyperparámetros\n",
            "{'C': 195.1545320209259, 'class_weight': None, 'gamma': 0.05510484910954993, 'kernel': 'rbf'}\n"
          ]
        }
      ]
    },
    {
      "cell_type": "code",
      "source": [
        "# Evaluación\n",
        "y_pred= classifier.predict(X_test)\n",
        "print(\"Resultados de evaluación\")\n",
        "print(\"F-1 weighted: {}\".format(f1_score(y_test, y_pred, average='weighted')))\n",
        "print(\"Precision: {}\".format(precision_score(y_test, y_pred)))\n",
        "print(\"Recall: {}\".format(f1_score(y_test, y_pred)))\n",
        "print(\"AUROC: {}\".format(roc_auc_score(y_test, y_pred, average='weighted')))"
      ],
      "metadata": {
        "id": "ZPeNmBCRe8F2",
        "colab": {
          "base_uri": "https://localhost:8080/"
        },
        "outputId": "c6bd4404-fbae-4159-ae64-e4bc4aaf547e"
      },
      "execution_count": null,
      "outputs": [
        {
          "output_type": "stream",
          "name": "stdout",
          "text": [
            "Resultados de evaluación\n",
            "F-1 weighted: 1.0\n",
            "Precision: 1.0\n",
            "Recall: 1.0\n",
            "AUROC: 1.0\n"
          ]
        }
      ]
    },
    {
      "cell_type": "code",
      "source": [
        "# Matriz de confusión\n",
        "conf_matrix = confusion_matrix(y_test,y_pred)\n",
        "disp= ConfusionMatrixDisplay(confusion_matrix=conf_matrix,\n",
        "                             display_labels=clf.classes_)\n",
        "disp.plot(cmap=plt.cm.Greens)\n",
        "plt.show()"
      ],
      "metadata": {
        "id": "tQ2HZoEAe_CO",
        "colab": {
          "base_uri": "https://localhost:8080/",
          "height": 279
        },
        "outputId": "87088fa3-7c63-4883-cb82-029ae0cc025c"
      },
      "execution_count": null,
      "outputs": [
        {
          "output_type": "display_data",
          "data": {
            "text/plain": [
              "<Figure size 432x288 with 2 Axes>"
            ],
            "image/png": "[encoded data removed]"
          },
          "metadata": {
            "needs_background": "light"
          }
        }
      ]
    },
    {
      "cell_type": "code",
      "source": [
        "# Reporte de clasificación\n",
        "print(classification_report(y_test,y_pred))"
      ],
      "metadata": {
        "id": "F3Z9X5Y2fBMG",
        "colab": {
          "base_uri": "https://localhost:8080/"
        },
        "outputId": "00004039-d1ae-46a2-9ea4-34c4c6c83de9"
      },
      "execution_count": null,
      "outputs": [
        {
          "output_type": "stream",
          "name": "stdout",
          "text": [
            "              precision    recall  f1-score   support\n",
            "\n",
            "           0       1.00      1.00      1.00       852\n",
            "           1       1.00      1.00      1.00       773\n",
            "\n",
            "    accuracy                           1.00      1625\n",
            "   macro avg       1.00      1.00      1.00      1625\n",
            "weighted avg       1.00      1.00      1.00      1625\n",
            "\n"
          ]
        }
      ]
    },
    {
      "cell_type": "code",
      "source": [
        "# Plot ROC curve\n",
        "false_positive_rate, true_positive_rate, thresholds = roc_curve(y_test, y_pred)\n",
        "auc_roc = roc_auc_score(y_test, y_pred, average='weighted')\n",
        "plt.figure(figsize=(10,10))\n",
        "plt.title('Receiver Operating Characteristic')\n",
        "plt.plot(false_positive_rate,true_positive_rate, color='darkgreen',label = 'AUC = %0.2f' % auc_roc)\n",
        "plt.legend(loc = 'lower right')\n",
        "plt.plot([0, 1], [0, 1],linestyle='--')\n",
        "plt.axis('tight')\n",
        "plt.ylabel('True Positive Rate')\n",
        "plt.xlabel('False Positive Rate')"
      ],
      "metadata": {
        "id": "aIbyYs-rfDY_",
        "colab": {
          "base_uri": "https://localhost:8080/",
          "height": 638
        },
        "outputId": "fb775e40-0f89-4d35-d365-ffab77182f06"
      },
      "execution_count": null,
      "outputs": [
        {
          "output_type": "execute_result",
          "data": {
            "text/plain": [
              "Text(0.5, 0, 'False Positive Rate')"
            ]
          },
          "metadata": {},
          "execution_count": 16
        },
        {
          "output_type": "display_data",
          "data": {
            "text/plain": [
              "<Figure size 720x720 with 1 Axes>"
            ],
            "image/png": "[encoded data removed]"
          },
          "metadata": {
            "needs_background": "light"
          }
        }
      ]
    },
    {
      "cell_type": "code",
      "source": [
        "# Importar libreria\n",
        "from sklearn.metrics import PrecisionRecallDisplay\n",
        "\n",
        "# Precision-Recall curve\n",
        "display = PrecisionRecallDisplay.from_predictions(y_test, y_pred, name = 'LinearSVC', color = 'yellowgreen')\n",
        "PR_curve = display.ax_.set_title('Precision-Recall curve')"
      ],
      "metadata": {
        "colab": {
          "base_uri": "https://localhost:8080/",
          "height": 295
        },
        "id": "01DyXvkBdJWq",
        "outputId": "83533eb7-3dfa-4447-9821-e6367da9a88e"
      },
      "execution_count": null,
      "outputs": [
        {
          "output_type": "display_data",
          "data": {
            "text/plain": [
              "<Figure size 432x288 with 1 Axes>"
            ],
            "image/png": "[encoded data removed]"
          },
          "metadata": {
            "needs_background": "light"
          }
        }
      ]
    },
    {
      "cell_type": "markdown",
      "source": [
        "**DECISION TREE MODEL**"
      ],
      "metadata": {
        "id": "0zHrPfgKpXhG"
      }
    },
    {
      "cell_type": "code",
      "source": [
        "decision_tree_model = tree.DecisionTreeClassifier()\n",
        "\n",
        "# Seleccionamos los parametros para nuestro decision tree classifier\n",
        "search_parameters = {'criterion': ['gini', 'entropy'], 'max_depth': [1, 2, 4, 6, 8, 10, None],\n",
        "                     'min_samples_split': [2, 4, 6, 8, 10, 12, 14]}"
      ],
      "metadata": {
        "id": "NvqaWecbl8Qc"
      },
      "execution_count": null,
      "outputs": []
    },
    {
      "cell_type": "code",
      "source": [
        "# Definimos el classifier\n",
        "clf = RandomizedSearchCV(decision_tree_model, search_parameters, random_state=0, cv=5, \n",
        "                                    scoring='f1_weighted', verbose=2, n_jobs=-1)\n",
        "classifier = clf.fit(X_train, y_train)"
      ],
      "metadata": {
        "colab": {
          "base_uri": "https://localhost:8080/"
        },
        "id": "EJfueNVrmB80",
        "outputId": "6268ee9d-d1c4-4592-c5be-a93891e55fb4"
      },
      "execution_count": null,
      "outputs": [
        {
          "output_type": "stream",
          "name": "stdout",
          "text": [
            "Fitting 5 folds for each of 10 candidates, totalling 50 fits\n"
          ]
        }
      ]
    },
    {
      "cell_type": "code",
      "source": [
        "# Verificamos resultados de entrenamiento y cross-validation\n",
        "print(\"Mejor F-1 weighted score\")\n",
        "print(classifier.best_score_)\n",
        "print(\"Mejores hyperparámetros\")\n",
        "print(classifier.best_params_)"
      ],
      "metadata": {
        "colab": {
          "base_uri": "https://localhost:8080/"
        },
        "id": "SHKK2ZWomE87",
        "outputId": "1a597383-f542-47f7-a370-7edbd4b2a63d"
      },
      "execution_count": null,
      "outputs": [
        {
          "output_type": "stream",
          "name": "stdout",
          "text": [
            "Mejor F-1 weighted score\n",
            "1.0\n",
            "Mejores hyperparámetros\n",
            "{'min_samples_split': 4, 'max_depth': 10, 'criterion': 'entropy'}\n"
          ]
        }
      ]
    },
    {
      "cell_type": "code",
      "source": [
        "# Evaluación\n",
        "y_pred = classifier.predict(X_test)\n",
        "print(\"Resultados de evaluación\")\n",
        "print(\"F-1 weighted: {}\".format(f1_score(y_test, y_pred, average='weighted')))\n",
        "print(\"Precision: {}\".format(precision_score(y_test, y_pred)))\n",
        "print(\"Recall: {}\".format(f1_score(y_test, y_pred)))\n",
        "print(\"AUROC: {}\".format(roc_auc_score(y_test, y_pred, average='weighted')))"
      ],
      "metadata": {
        "colab": {
          "base_uri": "https://localhost:8080/"
        },
        "id": "POjzKn3FmINM",
        "outputId": "f531a189-ccc3-441a-a44b-2a593a711b7f"
      },
      "execution_count": null,
      "outputs": [
        {
          "output_type": "stream",
          "name": "stdout",
          "text": [
            "Resultados de evaluación\n",
            "F-1 weighted: 1.0\n",
            "Precision: 1.0\n",
            "Recall: 1.0\n",
            "AUROC: 1.0\n"
          ]
        }
      ]
    },
    {
      "cell_type": "code",
      "source": [
        "# Matriz de confusión\n",
        "conf_matrix = confusion_matrix(y_test,y_pred)\n",
        "disp= ConfusionMatrixDisplay(confusion_matrix=conf_matrix,\n",
        "                             display_labels=clf.classes_)\n",
        "disp.plot(cmap=plt.cm.Reds)\n",
        "plt.show()\n"
      ],
      "metadata": {
        "colab": {
          "base_uri": "https://localhost:8080/",
          "height": 279
        },
        "id": "vNzhd117mLqr",
        "outputId": "1724172c-a9a3-4c47-d5bd-5359ec3885c9"
      },
      "execution_count": null,
      "outputs": [
        {
          "output_type": "display_data",
          "data": {
            "text/plain": [
              "<Figure size 432x288 with 2 Axes>"
            ],
            "image/png": "[encoded data removed]"
          },
          "metadata": {
            "needs_background": "light"
          }
        }
      ]
    },
    {
      "cell_type": "code",
      "source": [
        "# Reporte de clasificación\n",
        "print(classification_report(y_test,y_pred))"
      ],
      "metadata": {
        "colab": {
          "base_uri": "https://localhost:8080/"
        },
        "id": "QnTJRD9TmREl",
        "outputId": "a17b66c5-4db5-496e-fa3e-9022aece3aee"
      },
      "execution_count": null,
      "outputs": [
        {
          "output_type": "stream",
          "name": "stdout",
          "text": [
            "              precision    recall  f1-score   support\n",
            "\n",
            "           0       1.00      1.00      1.00       852\n",
            "           1       1.00      1.00      1.00       773\n",
            "\n",
            "    accuracy                           1.00      1625\n",
            "   macro avg       1.00      1.00      1.00      1625\n",
            "weighted avg       1.00      1.00      1.00      1625\n",
            "\n"
          ]
        }
      ]
    },
    {
      "cell_type": "code",
      "source": [
        "# Plot ROC curve\n",
        "false_positive_rate, true_positive_rate, thresholds = roc_curve(y_test, y_pred)\n",
        "auc_roc = roc_auc_score(y_test, y_pred, average='weighted')\n",
        "plt.figure(figsize=(10,10))\n",
        "plt.title('Receiver Operating Characteristic')\n",
        "plt.plot(false_positive_rate,true_positive_rate, color='salmon',label = 'AUC = %0.2f' % auc_roc)\n",
        "plt.legend(loc = 'lower right')\n",
        "plt.plot([0, 1], [0, 1],linestyle='--')\n",
        "plt.axis('tight')\n",
        "plt.ylabel('True Positive Rate')\n",
        "plt.xlabel('False Positive Rate')"
      ],
      "metadata": {
        "id": "qjk-sAidmUOr",
        "outputId": "b0505829-d266-4182-a940-06445336328b",
        "colab": {
          "base_uri": "https://localhost:8080/",
          "height": 638
        }
      },
      "execution_count": null,
      "outputs": [
        {
          "output_type": "execute_result",
          "data": {
            "text/plain": [
              "Text(0.5, 0, 'False Positive Rate')"
            ]
          },
          "metadata": {},
          "execution_count": 24
        },
        {
          "output_type": "display_data",
          "data": {
            "text/plain": [
              "<Figure size 720x720 with 1 Axes>"
            ],
            "image/png": "[encoded data removed]"
          },
          "metadata": {
            "needs_background": "light"
          }
        }
      ]
    },
    {
      "cell_type": "code",
      "source": [
        "# Importamos librerias\n",
        "from sklearn.metrics import PrecisionRecallDisplay\n",
        "\n",
        "# Precision-Recall curve\n",
        "display = PrecisionRecallDisplay.from_predictions(y_test, y_pred, name=\"DecisionTree\", color = \"darkred\")\n",
        "PR_curve = display.ax_.set_title(\"Precision-Recall curve\")\n"
      ],
      "metadata": {
        "colab": {
          "base_uri": "https://localhost:8080/",
          "height": 295
        },
        "id": "WUWv1vwhsLqK",
        "outputId": "5dc7ddd2-8f39-48aa-8434-35e511048937"
      },
      "execution_count": null,
      "outputs": [
        {
          "output_type": "display_data",
          "data": {
            "text/plain": [
              "<Figure size 432x288 with 1 Axes>"
            ],
            "image/png": "[encoded data removed]"
          },
          "metadata": {
            "needs_background": "light"
          }
        }
      ]
    },
    {
      "cell_type": "code",
      "source": [
        "# Grafica del arbol de decisiones\n",
        "\n",
        "# Seleccionamos el mejor arbol\n",
        "best_classifier = classifier.best_estimator_\n",
        "plt.figure() \n",
        "tree.plot_tree(best_classifier, filled=True) \n",
        "plt.title(\"Decision tree\") \n",
        "plt.show()"
      ],
      "metadata": {
        "id": "rsR1rLyomZ88",
        "outputId": "1c6c1a31-9fda-43eb-a6cc-e06d3be8b891",
        "colab": {
          "base_uri": "https://localhost:8080/",
          "height": 264
        }
      },
      "execution_count": null,
      "outputs": [
        {
          "output_type": "display_data",
          "data": {
            "text/plain": [
              "<Figure size 432x288 with 1 Axes>"
            ],
            "image/png": "[encoded data removed]"
          },
          "metadata": {
            "needs_background": "light"
          }
        }
      ]
    }
  ]
}